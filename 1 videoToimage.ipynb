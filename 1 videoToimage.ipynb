{
 "cells": [
  {
   "cell_type": "code",
   "execution_count": 1,
   "metadata": {},
   "outputs": [
    {
     "name": "stdout",
     "output_type": "stream",
     "text": [
      "Frames extracted: Awias_112557\n"
     ]
    }
   ],
   "source": [
    "import cv2\n",
    "import os\n",
    "from PIL import Image\n",
    "\n",
    "def convert_video_to_frames(video_path, output_path, label):\n",
    "    # Open the video file\n",
    "    video = cv2.VideoCapture(video_path)\n",
    "\n",
    "    # Check if the video file was opened successfully\n",
    "    if not video.isOpened():\n",
    "        print(\"Error opening video file\")\n",
    "        return\n",
    "\n",
    "    # Get the video's frames per second (fps) and frame dimensions\n",
    "    fps = int(video.get(cv2.CAP_PROP_FPS))\n",
    "    width = int(video.get(cv2.CAP_PROP_FRAME_WIDTH))\n",
    "    height = int(video.get(cv2.CAP_PROP_FRAME_HEIGHT))\n",
    "\n",
    "    # Create the output directory if it doesn't exist\n",
    "    if not os.path.exists(output_path):\n",
    "        os.makedirs(output_path)\n",
    "\n",
    "    # Initialize frame count\n",
    "    frame_count = 0\n",
    "\n",
    "    # Iterate through the video frames\n",
    "    while True:\n",
    "        # Read the frame from the video\n",
    "        success, frame = video.read()\n",
    "\n",
    "        # Break the loop if the video has ended\n",
    "        if not success:\n",
    "            break\n",
    "\n",
    "        # Resize the frame to the desired dimensions (540x960)\n",
    "        resized_frame = cv2.resize(frame, (224, 224))\n",
    "\n",
    "        # Save the resized frame as an image file\n",
    "        frame_filename = f\"{label}_{frame_count:04d}.jpg\"\n",
    "        frame_path = os.path.join(output_path, frame_filename)\n",
    "\n",
    "        # Convert the frame to PIL Image format\n",
    "        pil_image = Image.fromarray(cv2.cvtColor(resized_frame, cv2.COLOR_BGR2RGB))\n",
    "\n",
    "        # Save the resized frame\n",
    "        pil_image.save(frame_path)\n",
    "\n",
    "        frame_count += 1\n",
    "\n",
    "    # Release the video object\n",
    "    video.release()\n",
    "    print(f\"Frames extracted: {label}_{frame_count}\")\n",
    "\n",
    "# Example usage\n",
    "label = \"Awias\"\n",
    "video_filename = f\"{label}.mp4\"\n",
    "video_path = r\"Awais full-sleep_optimized.mp4\"\n",
    "output_path = r\"Frame Awias\"\n",
    "\n",
    "convert_video_to_frames(video_path, output_path, label)\n"
   ]
  }
 ],
 "metadata": {
  "kernelspec": {
   "display_name": "tf",
   "language": "python",
   "name": "python3"
  },
  "language_info": {
   "codemirror_mode": {
    "name": "ipython",
    "version": 3
   },
   "file_extension": ".py",
   "mimetype": "text/x-python",
   "name": "python",
   "nbconvert_exporter": "python",
   "pygments_lexer": "ipython3",
   "version": "3.9.17"
  },
  "orig_nbformat": 4
 },
 "nbformat": 4,
 "nbformat_minor": 2
}
